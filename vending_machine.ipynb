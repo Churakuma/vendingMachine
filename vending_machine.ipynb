{
 "cells": [
  {
   "attachments": {},
   "cell_type": "markdown",
   "metadata": {},
   "source": [
    "# VENDING MACHINE"
   ]
  },
  {
   "attachments": {},
   "cell_type": "markdown",
   "metadata": {},
   "source": [
    "## Welcome to my Vending machine!\n",
    "\n",
    "Please feel free to use it by selecting **Run All** :)"
   ]
  },
  {
   "cell_type": "code",
   "execution_count": 31,
   "metadata": {},
   "outputs": [],
   "source": [
    "# Generate data structures\n",
    "\n",
    "# TODO: MAKE THIS READ FROM FILE INPUT \n",
    "# TODO: REORGANISE THIS CELL\n",
    "choice = \"Empty String\"\n",
    "\n",
    "\n",
    "productDict = {\"A1\": {\"Coffee\": 0}, \"A2\": {\"Tea\": 5}, \"B1\": {\"Apple Juice\": 10}, \"B2\": {\"Orange Juice\": 10}}\n",
    "extraIngredients = {\"Sugar\": 20, \"Ice\": 10}"
   ]
  },
  {
   "cell_type": "code",
   "execution_count": 32,
   "metadata": {},
   "outputs": [],
   "source": [
    "# Display Home page of Vending Machine to allow choice of either user or administrator access\n",
    "\n",
    "def displayVendingHome():\n",
    "    \"\"\"\n",
    "    Function to display main prompt page\n",
    "    \"\"\"\n",
    "    print(\"Please select an option from below.\")\n",
    "    print()\n",
    "    \n",
    "    print(\"A    User Access\")\n",
    "    print(\"B    Admin Access\")\n",
    "    print(\"C    Turn Off\") # TODO: USER INPUT CLOSES THE MACHINE DOWN"
   ]
  },
  {
   "cell_type": "code",
   "execution_count": 33,
   "metadata": {},
   "outputs": [],
   "source": [
    "# Function to display nested dictionary of products and keys\n",
    "\n",
    "def displayProducts():\n",
    "    \"\"\"\n",
    "    Displays Product list and if product is unavailable.\n",
    "    \"\"\"\n",
    "    print(\"ITEMS AVAILABLE: \\n\")\n",
    "\n",
    "    for product_ID, product_name in productDict.items(): \n",
    "        for key in product_name:\n",
    "            if product_name[key] == 0: # Message if out of stock\n",
    "                message = \"NOT AVAILABLE\"\n",
    "            else:\n",
    "                message = \" \"\n",
    "            print(product_ID + \"    \" + key + \" \" + message)"
   ]
  },
  {
   "cell_type": "code",
   "execution_count": 34,
   "metadata": {},
   "outputs": [
    {
     "name": "stdout",
     "output_type": "stream",
     "text": [
      "Please select an option from below.\n",
      "\n",
      "A    User Access\n",
      "B    Admin Access\n",
      "C    Turn Off\n",
      "\n",
      "User Mode Active...\n",
      "ITEMS AVAILABLE: \n",
      "\n",
      "A1    Coffee NOT AVAILABLE\n",
      "A2    Tea  \n",
      "B1    Apple Juice  \n",
      "B2    Orange Juice  \n",
      "Orange Juice $4.00\n"
     ]
    }
   ],
   "source": [
    "# Main Program\n",
    "displayVendingHome()\n",
    "\n",
    "choice = input(\"Selection: \").upper()\n",
    "print()\n",
    "if choice == \"A\":\n",
    "    print(\"User Mode Active...\")\n",
    "\n",
    "    displayProducts()\n",
    "    choice = input(\"Please enter product code: \").upper()\n",
    "\n",
    "    if choice == \"A1\":\n",
    "        dictList = productDict[\"A1\"].keys()\n",
    "        print(*dictList, sep ='', end=\" \")\n",
    "        print(\"$3.50\")\n",
    "    elif choice == \"A2\":\n",
    "        dictList = productDict[\"A2\"].keys()\n",
    "        print(*dictList, sep ='', end=\" \")\n",
    "        print(\"$2.00\")\n",
    "    elif choice == \"B1\":\n",
    "        dictList = productDict[\"B1\"].keys()\n",
    "        print(*dictList, sep ='', end=\" \")\n",
    "        print(\"$4.00\")\n",
    "    elif choice == \"B2\":\n",
    "        dictList = productDict[\"B2\"].keys()\n",
    "        print(*dictList, sep ='', end=\" \")\n",
    "        print(\"$4.00\")\n",
    "    else:\n",
    "        print(\"Error incorrect input. Please re-enter product code.\")\n",
    "elif choice == \"B\":\n",
    "    print(\"Admin Access Menu:\")\n",
    "    # TODO: ADD SYSTEM STATUS MESSAGE SAYING MACHINE ONLY AVAILABLE FOR ADMINISTRATORS\n",
    "    # TODO: ADD ADMIN ACCESS MENU AND PROMPTS\n",
    "elif choice == \"C\":\n",
    "    print(\"Complete me...\")\n",
    "    # TODO: ADD CODE TO CLOSE MACHINE\n",
    "else:\n",
    "    print(\"Incorrect input.\")"
   ]
  }
 ],
 "metadata": {
  "kernelspec": {
   "display_name": "Python 3",
   "language": "python",
   "name": "python3"
  },
  "language_info": {
   "codemirror_mode": {
    "name": "ipython",
    "version": 3
   },
   "file_extension": ".py",
   "mimetype": "text/x-python",
   "name": "python",
   "nbconvert_exporter": "python",
   "pygments_lexer": "ipython3",
   "version": "3.10.9"
  },
  "orig_nbformat": 4,
  "vscode": {
   "interpreter": {
    "hash": "215e4cf6c5a073471dea3632241691fdb372ffb421afde4543a141a1dd8d0ddb"
   }
  }
 },
 "nbformat": 4,
 "nbformat_minor": 2
}
