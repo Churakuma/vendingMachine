{
 "cells": [
  {
   "attachments": {},
   "cell_type": "markdown",
   "metadata": {},
   "source": [
    "# VENDING MACHINE"
   ]
  },
  {
   "attachments": {},
   "cell_type": "markdown",
   "metadata": {},
   "source": [
    "## Welcome to my Vending machine!\n",
    "\n",
    "Please feel free to use it by selecting **Run All** :)"
   ]
  },
  {
   "cell_type": "code",
   "execution_count": 179,
   "metadata": {},
   "outputs": [],
   "source": [
    "# Generate data structures and variables\n",
    "\n",
    "# Declaring global variables\n",
    "choice = \" \"\n",
    "#totPayment = 0\n",
    "payment = 0\n",
    "\n",
    "# Generate data structures\n",
    "# TODO: MAKE THIS READ FROM FILE INPUT \n",
    "\n",
    "productDict = {\"A1\": {\"Coffee\": 0}, \"A2\": {\"Tea\": 5}, \"B1\": {\"Apple Juice\": 10}, \"B2\": {\"Orange Juice\": 10}}\n",
    "extraIngredients = {\"Sugar\": 20, \"Ice\": 10}"
   ]
  },
  {
   "cell_type": "code",
   "execution_count": 180,
   "metadata": {},
   "outputs": [],
   "source": [
    "# Function to display nested dictionary of products and keys\n",
    "\n",
    "def displayProducts():\n",
    "    \"\"\"\n",
    "    Displays Product list and if product is unavailable.\n",
    "    \"\"\"\n",
    "    print(\"ITEMS AVAILABLE: \\n\")\n",
    "\n",
    "    for product_ID, product_name in productDict.items(): \n",
    "        for key in product_name:\n",
    "            if product_name[key] == 0: # Message if out of stock\n",
    "                message = \"NOT AVAILABLE\"\n",
    "            else:\n",
    "                message = \" \"\n",
    "            print(product_ID + \"    \" + key + \" \" + message)\n",
    "\n",
    "# Display Home page of Vending Machine to allow choice of either user or administrator access\n",
    "\n",
    "def displayVendingHome():\n",
    "    \"\"\"\n",
    "    Function to display main prompt page.\n",
    "    \"\"\"\n",
    "    print(\"Please select an option from below.\")\n",
    "    print()\n",
    "    \n",
    "    print(\"A    User Access\")\n",
    "    print(\"B    Admin Access\")\n",
    "    print(\"C    Turn Off\") # TODO: USER INPUT CLOSES THE MACHINE DOWN"
   ]
  },
  {
   "cell_type": "code",
   "execution_count": 181,
   "metadata": {},
   "outputs": [],
   "source": [
    "# Function to handle coin input from user\n",
    "#def validateCoin():\n",
    "#    \"\"\"\n",
    "#    Validates that coins inputted are legal tender values\n",
    "#    \"\"\"\n",
    "\n",
    "\n",
    "def coinInput(price):\n",
    "    \"\"\"\n",
    "    Allow for users to input their coins. Shows a total of how much has been paid \n",
    "    and how much is still remaining to be paid.\n",
    "    \"\"\"\n",
    "\n",
    "    totPayment = 0\n",
    "    coinFlag = True\n",
    "    validCoinInput = [2.00, 1.00, 0.50, 0.20, 0.10, 0.05]\n",
    "        \n",
    "    while totPayment < price:\n",
    "        payment = float(input(\"Please deposit your coin: \"))\n",
    "\n",
    "        while coinFlag == True:\n",
    "            if payment in validCoinInput:\n",
    "                coinFlag = True\n",
    "                \n",
    "                totPayment += payment\n",
    "                remaining = price - totPayment\n",
    "                print(\"Total: $\" + \"%.2f\" % totPayment)\n",
    "                if price > totPayment:\n",
    "                    print(\"Please insert: $\" + \"%.2f\" % remaining)\n",
    "                    break\n",
    "                elif price < totPayment:\n",
    "                    refund = totPayment - price\n",
    "                    print(\"Refund due...\")\n",
    "                    print(\"Dispensing: $\" + \"%.2f\" % refund)\n",
    "                    break\n",
    "            else:\n",
    "                coinFlag = False\n",
    "                print(\"Please only enter legal tender.\")\n",
    "    print(\"Thank you. Payment processing...\")"
   ]
  },
  {
   "cell_type": "code",
   "execution_count": 182,
   "metadata": {},
   "outputs": [
    {
     "name": "stdout",
     "output_type": "stream",
     "text": [
      "Please select an option from below.\n",
      "\n",
      "A    User Access\n",
      "B    Admin Access\n",
      "C    Turn Off\n",
      "\n",
      "User Mode Active...\n",
      "ITEMS AVAILABLE: \n",
      "\n",
      "A1    Coffee NOT AVAILABLE\n",
      "A2    Tea  \n",
      "B1    Apple Juice  \n",
      "B2    Orange Juice  \n",
      "Coffee $3.5\n",
      "Total: $2.00\n",
      "Please insert: $1.50\n",
      "Total: $3.00\n",
      "Please insert: $0.50\n",
      "Please only enter legal tender.\n"
     ]
    },
    {
     "ename": "ValueError",
     "evalue": "could not convert string to float: ''",
     "output_type": "error",
     "traceback": [
      "\u001b[1;31m---------------------------------------------------------------------------\u001b[0m",
      "\u001b[1;31mValueError\u001b[0m                                Traceback (most recent call last)",
      "Cell \u001b[1;32mIn[182], line 18\u001b[0m\n\u001b[0;32m     15\u001b[0m     \u001b[39mprint\u001b[39m(\u001b[39m*\u001b[39mdictList, sep \u001b[39m=\u001b[39m\u001b[39m'\u001b[39m\u001b[39m'\u001b[39m, end\u001b[39m=\u001b[39m\u001b[39m\"\u001b[39m\u001b[39m \u001b[39m\u001b[39m\"\u001b[39m) \u001b[39m# Print item from deconstructed list with price\u001b[39;00m\n\u001b[0;32m     16\u001b[0m     \u001b[39mprint\u001b[39m(\u001b[39m\"\u001b[39m\u001b[39m$\u001b[39m\u001b[39m\"\u001b[39m \u001b[39m+\u001b[39m \u001b[39mstr\u001b[39m(price))\n\u001b[1;32m---> 18\u001b[0m     coinInput(price)\n\u001b[0;32m     19\u001b[0m \u001b[39melif\u001b[39;00m choice \u001b[39m==\u001b[39m \u001b[39m\"\u001b[39m\u001b[39mA2\u001b[39m\u001b[39m\"\u001b[39m:\n\u001b[0;32m     20\u001b[0m     dictList \u001b[39m=\u001b[39m productDict[\u001b[39m\"\u001b[39m\u001b[39mA2\u001b[39m\u001b[39m\"\u001b[39m]\u001b[39m.\u001b[39mkeys()\n",
      "Cell \u001b[1;32mIn[181], line 19\u001b[0m, in \u001b[0;36mcoinInput\u001b[1;34m(price)\u001b[0m\n\u001b[0;32m     16\u001b[0m validCoinInput \u001b[39m=\u001b[39m [\u001b[39m2.00\u001b[39m, \u001b[39m1.00\u001b[39m, \u001b[39m0.50\u001b[39m, \u001b[39m0.20\u001b[39m, \u001b[39m0.10\u001b[39m, \u001b[39m0.05\u001b[39m]\n\u001b[0;32m     18\u001b[0m \u001b[39mwhile\u001b[39;00m totPayment \u001b[39m<\u001b[39m price:\n\u001b[1;32m---> 19\u001b[0m     payment \u001b[39m=\u001b[39m \u001b[39mfloat\u001b[39;49m(\u001b[39minput\u001b[39;49m(\u001b[39m\"\u001b[39;49m\u001b[39mPlease deposit your coin: \u001b[39;49m\u001b[39m\"\u001b[39;49m))\n\u001b[0;32m     21\u001b[0m     \u001b[39mwhile\u001b[39;00m coinFlag \u001b[39m==\u001b[39m \u001b[39mTrue\u001b[39;00m:\n\u001b[0;32m     22\u001b[0m         \u001b[39mif\u001b[39;00m payment \u001b[39min\u001b[39;00m validCoinInput:\n",
      "\u001b[1;31mValueError\u001b[0m: could not convert string to float: ''"
     ]
    }
   ],
   "source": [
    "# Main Program\n",
    "displayVendingHome()\n",
    "\n",
    "choice = input(\"Selection: \").upper()\n",
    "print()\n",
    "if choice == \"A\":\n",
    "    print(\"User Mode Active...\")\n",
    "\n",
    "    displayProducts()\n",
    "    choice = input(\"Please enter product code: \").upper()\n",
    "\n",
    "    if choice == \"A1\":\n",
    "        dictList = productDict[\"A1\"].keys()\n",
    "        price = 3.50\n",
    "        print(*dictList, sep ='', end=\" \") # Print item from deconstructed list with price\n",
    "        print(\"$\" + str(price))\n",
    "\n",
    "        coinInput(price)\n",
    "    elif choice == \"A2\":\n",
    "        dictList = productDict[\"A2\"].keys()\n",
    "        price = 2.00\n",
    "        print(*dictList, sep ='', end=\" \")\n",
    "        print(\"$\" + str(price))\n",
    "    elif choice == \"B1\":\n",
    "        dictList = productDict[\"B1\"].keys()\n",
    "        price = 4.00\n",
    "        print(*dictList, sep ='', end=\" \")\n",
    "        print(\"$\" + str(price))\n",
    "    elif choice == \"B2\":\n",
    "        dictList = productDict[\"B2\"].keys()\n",
    "        price = 4.00\n",
    "        print(*dictList, sep ='', end=\" \")\n",
    "        print(\"$\" + str(price))\n",
    "    else:\n",
    "        print(\"Error incorrect input. Please re-enter product code.\")\n",
    "\n",
    "elif choice == \"B\":\n",
    "    print(\"Admin Access Menu:\")\n",
    "    # TODO: ADD SYSTEM STATUS MESSAGE SAYING MACHINE ONLY AVAILABLE FOR ADMINISTRATORS\n",
    "    # TODO: ADD ADMIN ACCESS MENU AND PROMPTS\n",
    "elif choice == \"C\":\n",
    "    print(\"Complete me...\")\n",
    "    # TODO: ADD CODE TO CLOSE MACHINE\n",
    "else:\n",
    "    print(\"Incorrect input.\")"
   ]
  }
 ],
 "metadata": {
  "kernelspec": {
   "display_name": "Python 3",
   "language": "python",
   "name": "python3"
  },
  "language_info": {
   "codemirror_mode": {
    "name": "ipython",
    "version": 3
   },
   "file_extension": ".py",
   "mimetype": "text/x-python",
   "name": "python",
   "nbconvert_exporter": "python",
   "pygments_lexer": "ipython3",
   "version": "3.10.9"
  },
  "orig_nbformat": 4,
  "vscode": {
   "interpreter": {
    "hash": "215e4cf6c5a073471dea3632241691fdb372ffb421afde4543a141a1dd8d0ddb"
   }
  }
 },
 "nbformat": 4,
 "nbformat_minor": 2
}
