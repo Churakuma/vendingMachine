{
 "cells": [
  {
   "attachments": {},
   "cell_type": "markdown",
   "metadata": {},
   "source": [
    "# VENDING MACHINE"
   ]
  },
  {
   "cell_type": "code",
   "execution_count": 5,
   "metadata": {},
   "outputs": [
    {
     "name": "stdout",
     "output_type": "stream",
     "text": [
      "Welcome\n",
      "\n",
      "a.    Display products\n",
      "b.    Make a selection\n",
      "c.    Purchase revenue and transaction records\n",
      "\n",
      "coffee - 1\n",
      "tea - 1\n"
     ]
    }
   ],
   "source": [
    "print('Welcome')\n",
    "print()\n",
    "\n",
    "print('a.    Display products')\n",
    "print('b.    Make a selection')\n",
    "print('c.    Purchase revenue and transaction records')\n",
    "print()\n",
    "\n",
    "selection = input(\"Please enter: \")\n",
    "if selection == 'a': #TODO: LINK TO DATABASE TO TRACK UNITS AVAILABLE\n",
    "    print('coffee - 1')\n",
    "    print('tea - 1')\n",
    "elif selection == 'b':\n",
    "    \n",
    "\n"
   ]
  }
 ],
 "metadata": {
  "kernelspec": {
   "display_name": "Python 3",
   "language": "python",
   "name": "python3"
  },
  "language_info": {
   "codemirror_mode": {
    "name": "ipython",
    "version": 3
   },
   "file_extension": ".py",
   "mimetype": "text/x-python",
   "name": "python",
   "nbconvert_exporter": "python",
   "pygments_lexer": "ipython3",
   "version": "3.10.9 (tags/v3.10.9:1dd9be6, Dec  6 2022, 20:01:21) [MSC v.1934 64 bit (AMD64)]"
  },
  "orig_nbformat": 4,
  "vscode": {
   "interpreter": {
    "hash": "215e4cf6c5a073471dea3632241691fdb372ffb421afde4543a141a1dd8d0ddb"
   }
  }
 },
 "nbformat": 4,
 "nbformat_minor": 2
}
