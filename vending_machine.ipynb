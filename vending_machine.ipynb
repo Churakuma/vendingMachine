{
 "cells": [
  {
   "attachments": {},
   "cell_type": "markdown",
   "metadata": {},
   "source": [
    "# VENDING MACHINE"
   ]
  },
  {
   "attachments": {},
   "cell_type": "markdown",
   "metadata": {},
   "source": [
    "## Welcome to my Vending machine!\n",
    "\n",
    "Please feel free to use it by selecting **Run All** :)"
   ]
  },
  {
   "cell_type": "code",
   "execution_count": 60,
   "metadata": {},
   "outputs": [],
   "source": [
    "# Generate data structures\n",
    "\n",
    "# TODO: MAKE THIS READ FROM FILE INPUT \n",
    "productDict = {\"A1\": {\"Coffee\": 0}, \"A2\": {\"Tea\": 5}, \"B1\": {\"Apple Juice\": 10}, \"B2\": {\"Orange Juice\": 10}}\n",
    "extraIngredients = {\"Sugar\": 20, \"Ice\": 10}"
   ]
  },
  {
   "cell_type": "code",
   "execution_count": 61,
   "metadata": {},
   "outputs": [],
   "source": [
    "# Function to display nested dictionary of products and keys\n",
    "\n",
    "def displayNestedDict():\n",
    "    \"\"\"\n",
    "    Displays Product list and if product is unavailable.\n",
    "    \"\"\"\n",
    "    for product_ID, product_name in productDict.items(): \n",
    "        for key in product_name:\n",
    "            if product_name[key] == 0: # Message if out of stock\n",
    "                message = \"NOT AVAILABLE\"\n",
    "            else:\n",
    "                message = \" \"\n",
    "            print(product_ID + \" \" + key + \" \" + message)"
   ]
  },
  {
   "cell_type": "code",
   "execution_count": 62,
   "metadata": {},
   "outputs": [],
   "source": [
    "# Function to accept string input from user\n",
    "choice = input(\"Please enter your selection: \").upper()"
   ]
  },
  {
   "cell_type": "code",
   "execution_count": null,
   "metadata": {},
   "outputs": [],
   "source": [
    "# Main Program\n"
   ]
  }
 ],
 "metadata": {
  "kernelspec": {
   "display_name": "Python 3",
   "language": "python",
   "name": "python3"
  },
  "language_info": {
   "codemirror_mode": {
    "name": "ipython",
    "version": 3
   },
   "file_extension": ".py",
   "mimetype": "text/x-python",
   "name": "python",
   "nbconvert_exporter": "python",
   "pygments_lexer": "ipython3",
   "version": "3.10.9"
  },
  "orig_nbformat": 4,
  "vscode": {
   "interpreter": {
    "hash": "215e4cf6c5a073471dea3632241691fdb372ffb421afde4543a141a1dd8d0ddb"
   }
  }
 },
 "nbformat": 4,
 "nbformat_minor": 2
}
